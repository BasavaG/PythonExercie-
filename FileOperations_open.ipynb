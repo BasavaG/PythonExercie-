{
 "cells": [
  {
   "cell_type": "markdown",
   "metadata": {},
   "source": [
    "<h1>Reading files in python using open function </h1>\n",
    "<li> open function accepts two parameters </li>\n",
    "<li>\"file name to be read or write with complete path\"</li>\n",
    "<li>Operation mode. 1) \"w\" = write mode 2) \"r\" = read mode </li>\n"
   ]
  },
  {
   "cell_type": "markdown",
   "metadata": {},
   "source": [
    "#file = open(\"filename with path\", mode)\n",
    "mode = read = \"r\" or write = \"w\""
   ]
  },
  {
   "cell_type": "code",
   "execution_count": 26,
   "metadata": {},
   "outputs": [
    {
     "name": "stdout",
     "output_type": "stream",
     "text": [
      "Overwriting myfile.txt\n"
     ]
    }
   ],
   "source": [
    "%%writefile myfile.txt\n",
    "hello this is first file\n",
    "this is second line \n",
    "this is third line"
   ]
  },
  {
   "cell_type": "code",
   "execution_count": 2,
   "metadata": {},
   "outputs": [
    {
     "data": {
      "text/plain": [
       "'/resources/labs/PY0101EN'"
      ]
     },
     "execution_count": 2,
     "metadata": {},
     "output_type": "execute_result"
    }
   ],
   "source": [
    "#to check the current working directory of file\n",
    "pwd"
   ]
  },
  {
   "cell_type": "code",
   "execution_count": 30,
   "metadata": {},
   "outputs": [],
   "source": [
    "#open file \n",
    "myFile = open('/resources/labs/PY0101EN/myfile.txt', 'r')"
   ]
  },
  {
   "cell_type": "code",
   "execution_count": 7,
   "metadata": {},
   "outputs": [
    {
     "data": {
      "text/plain": [
       "'r'"
      ]
     },
     "execution_count": 7,
     "metadata": {},
     "output_type": "execute_result"
    }
   ],
   "source": [
    "#use file attributes \n",
    "myFile.name\n",
    "myFile.mode"
   ]
  },
  {
   "cell_type": "code",
   "execution_count": 31,
   "metadata": {},
   "outputs": [
    {
     "data": {
      "text/plain": [
       "'hello this is first file\\nthis is second line \\nthis is third line\\n'"
      ]
     },
     "execution_count": 31,
     "metadata": {},
     "output_type": "execute_result"
    }
   ],
   "source": [
    "#reading the file completely \n",
    "myFile.read() # output contains \\n which represents new line the file. As we are requesting whole file to be read. read method read everything in file."
   ]
  },
  {
   "cell_type": "code",
   "execution_count": 9,
   "metadata": {},
   "outputs": [
    {
     "data": {
      "text/plain": [
       "''"
      ]
     },
     "execution_count": 9,
     "metadata": {},
     "output_type": "execute_result"
    }
   ],
   "source": [
    "#trying to read the file once again \n",
    "myFile.read() # output is surprising because we read the file char by char and reached the last element that is the reason which show ' '.\n",
    "# to overcome set the index to starting point of file using seek method. "
   ]
  },
  {
   "cell_type": "code",
   "execution_count": 32,
   "metadata": {},
   "outputs": [
    {
     "data": {
      "text/plain": [
       "0"
      ]
     },
     "execution_count": 32,
     "metadata": {},
     "output_type": "execute_result"
    }
   ],
   "source": [
    "myFile.seek(0) # Setting index to point at start of file."
   ]
  },
  {
   "cell_type": "code",
   "execution_count": 11,
   "metadata": {},
   "outputs": [
    {
     "data": {
      "text/plain": [
       "'hello this is first file\\nthis is second line \\nthis is third line\\n'"
      ]
     },
     "execution_count": 11,
     "metadata": {},
     "output_type": "execute_result"
    }
   ],
   "source": [
    "myFile.read()"
   ]
  },
  {
   "cell_type": "code",
   "execution_count": 15,
   "metadata": {},
   "outputs": [
    {
     "data": {
      "text/plain": [
       "[]"
      ]
     },
     "execution_count": 15,
     "metadata": {},
     "output_type": "execute_result"
    }
   ],
   "source": [
    "# to read the files line by line use readlines()\n",
    "content = myFile.readlines()"
   ]
  },
  {
   "cell_type": "code",
   "execution_count": 29,
   "metadata": {},
   "outputs": [
    {
     "ename": "ValueError",
     "evalue": "I/O operation on closed file.",
     "output_type": "error",
     "traceback": [
      "\u001b[0;31m---------------------------------------------------------------------------\u001b[0m",
      "\u001b[0;31mValueError\u001b[0m                                Traceback (most recent call last)",
      "\u001b[0;32m<ipython-input-29-1cb68cbb10fc>\u001b[0m in \u001b[0;36m<module>\u001b[0;34m\u001b[0m\n\u001b[1;32m      1\u001b[0m \u001b[0;31m#set the file index at 0\u001b[0m\u001b[0;34m\u001b[0m\u001b[0;34m\u001b[0m\u001b[0;34m\u001b[0m\u001b[0m\n\u001b[0;32m----> 2\u001b[0;31m \u001b[0mmyFile\u001b[0m\u001b[0;34m.\u001b[0m\u001b[0mseek\u001b[0m\u001b[0;34m(\u001b[0m\u001b[0;36m0\u001b[0m\u001b[0;34m)\u001b[0m\u001b[0;34m\u001b[0m\u001b[0;34m\u001b[0m\u001b[0m\n\u001b[0m",
      "\u001b[0;31mValueError\u001b[0m: I/O operation on closed file."
     ]
    }
   ],
   "source": [
    "#set the file index at 0 \n",
    "myFile.seek(0)"
   ]
  },
  {
   "cell_type": "code",
   "execution_count": 21,
   "metadata": {},
   "outputs": [
    {
     "data": {
      "text/plain": [
       "['hello this is first file\\n',\n",
       " 'this is second line \\n',\n",
       " 'this is third line\\n']"
      ]
     },
     "execution_count": 21,
     "metadata": {},
     "output_type": "execute_result"
    }
   ],
   "source": [
    "myFile.readlines() # ouput display the lines one by one. but still \\n is exist showing new line. "
   ]
  },
  {
   "cell_type": "code",
   "execution_count": 23,
   "metadata": {},
   "outputs": [
    {
     "data": {
      "text/plain": [
       "'/resources/labs/PY0101EN/myfile.txt'"
      ]
     },
     "execution_count": 23,
     "metadata": {},
     "output_type": "execute_result"
    }
   ],
   "source": [
    "#After the usage of file, it is neccessary to close the file. Failing to do so cause issues. \n",
    "myFile.close()\n",
    "myFile.name"
   ]
  },
  {
   "cell_type": "markdown",
   "metadata": {},
   "source": [
    "<h1>Using the with statement is better practice, it automatically closes the file even if the code encounters an exception. The code will run everything in the indent block then close the file object.</h1>"
   ]
  },
  {
   "cell_type": "code",
   "execution_count": 39,
   "metadata": {},
   "outputs": [],
   "source": [
    "#Manually closing the file is not good option. to avoid this we use \"with keyword\" as shown below \n",
    "with open ('myfile.txt') as new_file: \n",
    "    content = new_file.read()"
   ]
  },
  {
   "cell_type": "code",
   "execution_count": 40,
   "metadata": {},
   "outputs": [
    {
     "data": {
      "text/plain": [
       "'hello this is first file\\nthis is second line \\nthis is third line\\n'"
      ]
     },
     "execution_count": 40,
     "metadata": {},
     "output_type": "execute_result"
    }
   ],
   "source": [
    "content"
   ]
  },
  {
   "cell_type": "markdown",
   "metadata": {},
   "source": [
    "<h1> Modes </h1>\n",
    "<li> r = read mode </li>\n",
    "<li> w = write mode </li>\n",
    "<li> r+ = reading or writing </li>\n",
    "<li> w+ = reading or rewriting to existing file or creating file </li>\n",
    "    "
   ]
  },
  {
   "cell_type": "code",
   "execution_count": 51,
   "metadata": {},
   "outputs": [],
   "source": [
    "#operations of file\n",
    "with open ('myfile.txt', mode='w') as f1: \n",
    "    content=f1.write(\"hi hello\")"
   ]
  },
  {
   "cell_type": "code",
   "execution_count": 52,
   "metadata": {},
   "outputs": [],
   "source": [
    "with open ('myfile.txt', mode ='r') as f2:\n",
    "    content= f2.read()\n",
    "    "
   ]
  },
  {
   "cell_type": "code",
   "execution_count": 53,
   "metadata": {},
   "outputs": [
    {
     "data": {
      "text/plain": [
       "'hi hello'"
      ]
     },
     "execution_count": 53,
     "metadata": {},
     "output_type": "execute_result"
    }
   ],
   "source": [
    "content"
   ]
  },
  {
   "cell_type": "code",
   "execution_count": 57,
   "metadata": {},
   "outputs": [],
   "source": [
    "#creating the file with open\n",
    "with open ('newfile.txt', mode='w') as f3: \n",
    "    f3.write(\"this is newly created file\")"
   ]
  },
  {
   "cell_type": "code",
   "execution_count": 61,
   "metadata": {},
   "outputs": [
    {
     "name": "stdout",
     "output_type": "stream",
     "text": [
      "this is newly created file\n"
     ]
    }
   ],
   "source": [
    "#read created newfile\n",
    "#print(f3.read()) # doesnt work because not opened in read mode, first open in read mode as below \n",
    "with open ('newfile.txt', mode='r') as f4:\n",
    "    print(f4.read())"
   ]
  },
  {
   "cell_type": "code",
   "execution_count": 64,
   "metadata": {},
   "outputs": [],
   "source": [
    "# using mode = 'w' will rewrite the content. now will append it. \n",
    "with open('newfile.txt', mode='a') as f5:\n",
    "    f5.write(\"\\nthis is newly appended line\")"
   ]
  },
  {
   "cell_type": "code",
   "execution_count": 74,
   "metadata": {},
   "outputs": [
    {
     "name": "stdout",
     "output_type": "stream",
     "text": [
      "this is newly created file\n",
      " th\n",
      "is is newly appended line\n",
      "this\n",
      " is newly appended l\n"
     ]
    }
   ],
   "source": [
    "#reading file require number of chars\n",
    "with open ('newfile.txt', mode='r') as f4:\n",
    "    print(f4.read(30))\n",
    "    print(f4.read(30))\n",
    "    print(f4.read(20))"
   ]
  },
  {
   "cell_type": "code",
   "execution_count": 77,
   "metadata": {},
   "outputs": [
    {
     "name": "stdout",
     "output_type": "stream",
     "text": [
      "this is newly created file\n",
      "\n",
      " this is newly appended line\n",
      "\n",
      "this is newly appended line\n"
     ]
    }
   ],
   "source": [
    "#reading file line by line\n",
    "with open('newfile.txt', mode='r') as f4:\n",
    "    print(f4.readline())\n",
    "    print(f4.readline())\n",
    "    print(f4.readline())"
   ]
  },
  {
   "cell_type": "code",
   "execution_count": 90,
   "metadata": {},
   "outputs": [],
   "source": [
    "#function to read file char by char. \n",
    "def readfile(): \n",
    "    with open ('newfile.txt', mode='r') as file1:\n",
    "        i=0\n",
    "        for line in file1:\n",
    "            print(\"Iteration is\", str(i), \" :\", line) #str() method converts values to string\n",
    "            i=i+1\n",
    "        "
   ]
  },
  {
   "cell_type": "code",
   "execution_count": 91,
   "metadata": {},
   "outputs": [
    {
     "name": "stdout",
     "output_type": "stream",
     "text": [
      "Iteration is 0  : this is newly created file\n",
      "\n",
      "Iteration is 1  :  this is newly appended line\n",
      "\n",
      "Iteration is 2  : this is newly appended line\n"
     ]
    }
   ],
   "source": [
    "readfile()"
   ]
  }
 ],
 "metadata": {
  "kernelspec": {
   "display_name": "Python",
   "language": "python",
   "name": "conda-env-python-py"
  },
  "language_info": {
   "codemirror_mode": {
    "name": "ipython",
    "version": 3
   },
   "file_extension": ".py",
   "mimetype": "text/x-python",
   "name": "python",
   "nbconvert_exporter": "python",
   "pygments_lexer": "ipython3",
   "version": "3.6.11"
  }
 },
 "nbformat": 4,
 "nbformat_minor": 4
}
