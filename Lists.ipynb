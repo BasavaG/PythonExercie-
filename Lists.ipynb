{
 "cells": [
  {
   "cell_type": "markdown",
   "metadata": {},
   "source": [
    "List is a collection of objects like integers,strings,float and also other lists. List can be accesed using index. each element in list have indexes starting 0.  "
   ]
  },
  {
   "cell_type": "code",
   "execution_count": 3,
   "metadata": {},
   "outputs": [
    {
     "name": "stdout",
     "output_type": "stream",
     "text": [
      "['Basavaraj', 'Frankfurt University of Applied Science', 'Average grade is ', 2.1]\n"
     ]
    }
   ],
   "source": [
    "#creating List\n",
    "student= [\"Basavaraj\", \"Frankfurt University of Applied Science\", \"Average grade is \", 2.1]\n",
    "print(student)"
   ]
  },
  {
   "cell_type": "code",
   "execution_count": 8,
   "metadata": {},
   "outputs": [
    {
     "name": "stdout",
     "output_type": "stream",
     "text": [
      "Frankfurt University of Applied Science\n",
      "Frankfurt University of Applied Science\n",
      "2.1\n"
     ]
    }
   ],
   "source": [
    "#We can use negative and regular indexing \n",
    "print(student[1])\n",
    "print(student[-3])\n",
    "print(student[-1])\n"
   ]
  },
  {
   "cell_type": "markdown",
   "metadata": {},
   "source": [
    "List can contain string,integer,float and other lists make it as nested list and also other data structures like tuples.Indexing works as normal"
   ]
  },
  {
   "cell_type": "code",
   "execution_count": 9,
   "metadata": {},
   "outputs": [
    {
     "name": "stdout",
     "output_type": "stream",
     "text": [
      "['Basavaraj', 'Frankfurt University of Applied Science', 'Average grade is ', 2.1]\n"
     ]
    }
   ],
   "source": [
    "print(student)"
   ]
  },
  {
   "cell_type": "code",
   "execution_count": 11,
   "metadata": {},
   "outputs": [
    {
     "name": "stdout",
     "output_type": "stream",
     "text": [
      "['Basavaraj', 'Frankfurt University of Applied Science', 'Average grade is ', 2.1, ('Gangadhar', 1.3)]\n"
     ]
    }
   ],
   "source": [
    "student =[\"Basavaraj\", \"Frankfurt University of Applied Science\", \"Average grade is \", 2.1,(\"Gangadhar\",1.3)] #contains tuple\n",
    "print(student)"
   ]
  },
  {
   "cell_type": "markdown",
   "metadata": {},
   "source": [
    "#Note List are mutable, means we can change the content of List. This is Main differance between list and tuples. Also \n",
    "List are created using square brackets [] and Tuples are created using paranthesis (). "
   ]
  },
  {
   "cell_type": "code",
   "execution_count": 39,
   "metadata": {},
   "outputs": [
    {
     "ename": "TypeError",
     "evalue": "'tuple' object does not support item assignment",
     "output_type": "error",
     "traceback": [
      "\u001b[0;31m---------------------------------------------------------------------------\u001b[0m",
      "\u001b[0;31mTypeError\u001b[0m                                 Traceback (most recent call last)",
      "\u001b[0;32m<ipython-input-39-60187fd8d817>\u001b[0m in \u001b[0;36m<module>\u001b[0;34m\u001b[0m\n\u001b[1;32m      1\u001b[0m \u001b[0;31m#Try to change tuple content\u001b[0m\u001b[0;34m\u001b[0m\u001b[0;34m\u001b[0m\u001b[0;34m\u001b[0m\u001b[0m\n\u001b[1;32m      2\u001b[0m \u001b[0mtuple1\u001b[0m\u001b[0;34m=\u001b[0m\u001b[0;34m(\u001b[0m\u001b[0;34m\"ABC\"\u001b[0m\u001b[0;34m,\u001b[0m\u001b[0;36m123\u001b[0m\u001b[0;34m)\u001b[0m\u001b[0;34m\u001b[0m\u001b[0;34m\u001b[0m\u001b[0m\n\u001b[0;32m----> 3\u001b[0;31m \u001b[0mtuple1\u001b[0m\u001b[0;34m[\u001b[0m\u001b[0;36m0\u001b[0m\u001b[0;34m]\u001b[0m\u001b[0;34m=\u001b[0m\u001b[0;34m\"XYZ\"\u001b[0m\u001b[0;34m\u001b[0m\u001b[0;34m\u001b[0m\u001b[0m\n\u001b[0m",
      "\u001b[0;31mTypeError\u001b[0m: 'tuple' object does not support item assignment"
     ]
    }
   ],
   "source": [
    "#Try to change tuple content\n",
    "tuple1=(\"ABC\",123)\n",
    "tuple1[0]=\"XYZ\" # Content will not change as Tuple is unmutable\n"
   ]
  },
  {
   "cell_type": "code",
   "execution_count": 44,
   "metadata": {},
   "outputs": [
    {
     "name": "stdout",
     "output_type": "stream",
     "text": [
      "['Basavaraj', 'Frankfurt University of Applied Science', 'Average grade is ', 1.7, ('Gangadhar', 1.3), 'P', 'r', 'o', 'g', 'r', 'a', 'm', 'm', 'e', 'r', 'P', 'r', 'o', 'g', 'r', 'a', 'm', 'm', 'e', 'r', 'P', 'r', 'o', 'g', 'r', 'a', 'm', 'm', 'e', 'r', 'Developer', 'P', 'r', 'o', 'g', 'r', 'a', 'm', 'm', 'e', 'r', 'Developer', 'P', 'r', 'o', 'g', 'r', 'a', 'm', 'm', 'e', 'r', 'Developer']\n"
     ]
    }
   ],
   "source": [
    "student\n",
    "student[3]=1.7\n",
    "print(student) # Content changes because lists are mutable"
   ]
  },
  {
   "cell_type": "code",
   "execution_count": 29,
   "metadata": {},
   "outputs": [
    {
     "name": "stdout",
     "output_type": "stream",
     "text": [
      "[2.1, ('Gangadhar', 1.3)]\n",
      "['Basavaraj', 'Frankfurt University of Applied Science', 'Average grade is ', 2.1]\n"
     ]
    }
   ],
   "source": [
    "#accesing last 2 elements from list\n",
    "print(student[3:5])\n",
    "print(student[0:4])"
   ]
  },
  {
   "cell_type": "code",
   "execution_count": 45,
   "metadata": {},
   "outputs": [
    {
     "name": "stdout",
     "output_type": "stream",
     "text": [
      "['Basavaraj', 'Frankfurt University of Applied Science', 'Average grade is ', 1.7, ('Gangadhar', 1.3), 'P', 'r', 'o', 'g', 'r', 'a', 'm', 'm', 'e', 'r', 'P', 'r', 'o', 'g', 'r', 'a', 'm', 'm', 'e', 'r', 'P', 'r', 'o', 'g', 'r', 'a', 'm', 'm', 'e', 'r', 'Developer', 'P', 'r', 'o', 'g', 'r', 'a', 'm', 'm', 'e', 'r', 'Developer', 'P', 'r', 'o', 'g', 'r', 'a', 'm', 'm', 'e', 'r', 'Developer', 'B']\n"
     ]
    }
   ],
   "source": [
    "#Add elements to list by using extend and append method \n",
    "student.extend(\"B\") #extend takes exactly one argument\n",
    "print(student) # Hmm looks interesting programmming word spearted by alphabets. \n"
   ]
  },
  {
   "cell_type": "code",
   "execution_count": 37,
   "metadata": {},
   "outputs": [
    {
     "name": "stdout",
     "output_type": "stream",
     "text": [
      "['Basavaraj', 'Frankfurt University of Applied Science', 'Average grade is ', 2.1, ('Gangadhar', 1.3), 'P', 'r', 'o', 'g', 'r', 'a', 'm', 'm', 'e', 'r', 'P', 'r', 'o', 'g', 'r', 'a', 'm', 'm', 'e', 'r', 'P', 'r', 'o', 'g', 'r', 'a', 'm', 'm', 'e', 'r', 'Developer', 'P', 'r', 'o', 'g', 'r', 'a', 'm', 'm', 'e', 'r', 'Developer', 'P', 'r', 'o', 'g', 'r', 'a', 'm', 'm', 'e', 'r', 'Developer']\n"
     ]
    }
   ],
   "source": [
    "#lets try append\n",
    "student.append(\"Developer\")\n",
    "print(student) # more interesting outputs. "
   ]
  },
  {
   "cell_type": "code",
   "execution_count": 55,
   "metadata": {},
   "outputs": [
    {
     "name": "stdout",
     "output_type": "stream",
     "text": [
      "5\n",
      "['Basavaraj', 'Frankfurt University of Applied Science', 'Average grade is ', 1.7, ('Gangadhar', 1.3)]\n"
     ]
    }
   ],
   "source": [
    "#delete elements\n",
    "print(len(student))\n",
    "del(student[5])\n",
    "print(student)"
   ]
  },
  {
   "cell_type": "code",
   "execution_count": 66,
   "metadata": {},
   "outputs": [
    {
     "name": "stdout",
     "output_type": "stream",
     "text": [
      "['Basavaraj', 'Gangandhar']\n",
      "['a', 'b', 'c', 'd']\n"
     ]
    }
   ],
   "source": [
    "#split list content by default split separates the elements of list which are separated by comma\n",
    "print(\"Basavaraj Gangandhar\".split())\n",
    "print(\"a,b,c,d\".split(','))"
   ]
  },
  {
   "cell_type": "markdown",
   "metadata": {},
   "source": [
    "Copy and clone \n",
    "Two lists can refer to same address. "
   ]
  },
  {
   "cell_type": "code",
   "execution_count": 70,
   "metadata": {},
   "outputs": [
    {
     "name": "stdout",
     "output_type": "stream",
     "text": [
      "['Greece', 'beach', 222]\n",
      "['Greece', 'beach', 222]\n"
     ]
    }
   ],
   "source": [
    "A=[\"Greece\",\"beach\",222]\n",
    "print(A)\n",
    "B=A\n",
    "print(B) # both A & B refering to same list"
   ]
  },
  {
   "cell_type": "code",
   "execution_count": 77,
   "metadata": {},
   "outputs": [
    {
     "name": "stdout",
     "output_type": "stream",
     "text": [
      "('Santorini', 'red beach', 222)\n",
      "('Santorini', 'red beach', 222)\n"
     ]
    }
   ],
   "source": [
    "#Now if i change the content of A it will affect the content of B. \n",
    "A=(\"Santorini\",\"red beach\",222)\n",
    "\n",
    "print(B) # B values "
   ]
  },
  {
   "cell_type": "code",
   "execution_count": 80,
   "metadata": {},
   "outputs": [
    {
     "data": {
      "text/plain": [
       "('Santorini', 'red beach', 222)"
      ]
     },
     "execution_count": 80,
     "metadata": {},
     "output_type": "execute_result"
    }
   ],
   "source": [
    "#clone by value\n",
    "B=A[:] # Stops affecting the contents of B.\n",
    "B"
   ]
  },
  {
   "cell_type": "code",
   "execution_count": 84,
   "metadata": {},
   "outputs": [
    {
     "name": "stdout",
     "output_type": "stream",
     "text": [
      "('Santorini', 'red beach', 222)\n",
      "('Santorini', 'red beach', 222)\n",
      "['Greece', 'beach', 222]\n"
     ]
    }
   ],
   "source": [
    "print(B)\n",
    "A=[\"Greece\",\"beach\",222]\n",
    "print(B)\n",
    "print(A)"
   ]
  },
  {
   "cell_type": "code",
   "execution_count": null,
   "metadata": {},
   "outputs": [],
   "source": []
  }
 ],
 "metadata": {
  "kernelspec": {
   "display_name": "Python",
   "language": "python",
   "name": "conda-env-python-py"
  },
  "language_info": {
   "codemirror_mode": {
    "name": "ipython",
    "version": 3
   },
   "file_extension": ".py",
   "mimetype": "text/x-python",
   "name": "python",
   "nbconvert_exporter": "python",
   "pygments_lexer": "ipython3",
   "version": "3.6.11"
  }
 },
 "nbformat": 4,
 "nbformat_minor": 4
}
