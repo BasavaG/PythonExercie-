{
 "cells": [
  {
   "cell_type": "markdown",
   "metadata": {},
   "source": [
    "We have for loop and while loop, before loops will work on range\n",
    "> range() is an object. which generates list of ordered sequance. starting from 0 by deafult and always increament by 1 "
   ]
  },
  {
   "cell_type": "code",
   "execution_count": 4,
   "metadata": {},
   "outputs": [
    {
     "name": "stdout",
     "output_type": "stream",
     "text": [
      "range(0, 3)\n"
     ]
    }
   ],
   "source": [
    "#ex range to generate number 0 to 2\n",
    "range(3)"
   ]
  },
  {
   "cell_type": "code",
   "execution_count": 7,
   "metadata": {},
   "outputs": [
    {
     "name": "stdout",
     "output_type": "stream",
     "text": [
      "0\n",
      "1\n",
      "2\n"
     ]
    }
   ],
   "source": [
    "for x in range(3):  #Note that range(6) is not the values of 0 to 3, but the values 0 to 2.\n",
    "    print (x)"
   ]
  },
  {
   "cell_type": "code",
   "execution_count": 8,
   "metadata": {},
   "outputs": [
    {
     "name": "stdout",
     "output_type": "stream",
     "text": [
      "3\n",
      "4\n",
      "5\n"
     ]
    }
   ],
   "source": [
    "#we can specify the starting value in range\n",
    "for x in range(3,6): # generates 3 to 5, always increment by 1 \n",
    "    print (x)"
   ]
  },
  {
   "cell_type": "code",
   "execution_count": 10,
   "metadata": {},
   "outputs": [
    {
     "name": "stdout",
     "output_type": "stream",
     "text": [
      "1\n",
      "3\n",
      "5\n",
      "7\n",
      "9\n"
     ]
    }
   ],
   "source": [
    "#In range value is always incremented by 1 by default, but we can mention increment by number : range(1,10,2) increment by 2\n",
    "for x in range(1,10,2):\n",
    "    print(x)"
   ]
  },
  {
   "cell_type": "code",
   "execution_count": null,
   "metadata": {},
   "outputs": [],
   "source": [
    "#For Loops allow to execute a block of code repeated number of times. \n",
    "#For Loops iterates over a sequance that can string,tuple,set,list,dictionary."
   ]
  },
  {
   "cell_type": "code",
   "execution_count": 11,
   "metadata": {},
   "outputs": [
    {
     "name": "stdout",
     "output_type": "stream",
     "text": [
      "banana\n",
      "orange\n",
      "apple\n"
     ]
    }
   ],
   "source": [
    "#For like iterator using\n",
    "fruits= [\"banana\",\"orange\",\"apple\"]\n",
    "for x in fruits:\n",
    "    print(x)"
   ]
  },
  {
   "cell_type": "code",
   "execution_count": 12,
   "metadata": {},
   "outputs": [
    {
     "name": "stdout",
     "output_type": "stream",
     "text": [
      "b\n",
      "a\n",
      "n\n",
      "a\n",
      "n\n",
      "a\n"
     ]
    }
   ],
   "source": [
    "#iterate over string \n",
    "for x in \"banana\":\n",
    "    print(x)\n"
   ]
  },
  {
   "cell_type": "code",
   "execution_count": 20,
   "metadata": {},
   "outputs": [
    {
     "name": "stdout",
     "output_type": "stream",
     "text": [
      "['banana', 'orange', 'apple', 'cherries', 'cherries']\n",
      "banana\n",
      "orange\n",
      "apple\n",
      "cherries\n"
     ]
    }
   ],
   "source": [
    "#break : using break statement we can break the iteration before it loops entire set,list,tuple etc \n",
    "print(fruits)\n",
    "for x in fruits:\n",
    "    print(x)\n",
    "    if x==\"cherries\":\n",
    "         break"
   ]
  },
  {
   "cell_type": "code",
   "execution_count": 21,
   "metadata": {},
   "outputs": [
    {
     "name": "stdout",
     "output_type": "stream",
     "text": [
      "banana\n",
      "orange\n",
      "apple\n"
     ]
    }
   ],
   "source": [
    "#exiting loop using break \n",
    "for x in fruits:\n",
    "    if x == \"cherries\":\n",
    "            break\n",
    "    print(x)"
   ]
  },
  {
   "cell_type": "code",
   "execution_count": 3,
   "metadata": {},
   "outputs": [
    {
     "name": "stdout",
     "output_type": "stream",
     "text": [
      "3\n",
      "1991\n",
      "1992\n",
      "1993\n"
     ]
    }
   ],
   "source": [
    "dates = [1991,1992,1993]\n",
    "lenght =len(dates)\n",
    "print(lenght)\n",
    "for i in range(lenght):\n",
    "    print(dates[i])"
   ]
  },
  {
   "cell_type": "code",
   "execution_count": 10,
   "metadata": {},
   "outputs": [
    {
     "name": "stdout",
     "output_type": "stream",
     "text": [
      "Before Queen\n",
      "Imdb 9.6\n",
      "Before Gladiator\n",
      "Imdb 9.6\n",
      "Before Jobs\n",
      "Imdb 9.6\n",
      "Before Pursuit of Happiness\n",
      "Imdb 9.6\n"
     ]
    }
   ],
   "source": [
    "#Change the elements of list \n",
    "movies=[\"Queen\", \"Gladiator\",\"Jobs\",\"Pursuit of Happiness\"]\n",
    "for i in range(0,4):\n",
    "    print (\"Before \" + movies[i])\n",
    "    movies[i] = \"Imdb 9.6\"\n",
    "    print(movies[i])"
   ]
  },
  {
   "cell_type": "code",
   "execution_count": 11,
   "metadata": {},
   "outputs": [
    {
     "name": "stdout",
     "output_type": "stream",
     "text": [
      "0 Imdb 9.6\n",
      "1 Imdb 9.6\n",
      "2 Imdb 9.6\n",
      "3 Imdb 9.6\n"
     ]
    }
   ],
   "source": [
    "# we can access the index and element value as follow\n",
    "for i, movie in enumerate(movies):\n",
    "    print(i,movie)\n"
   ]
  },
  {
   "cell_type": "markdown",
   "metadata": {},
   "source": [
    "<h1>#Very important is nested loops</h1>\n",
    "<h2>#Loop inside loop</h2>\n",
    "<h3>#the inner loop will be executed one time for each iteration of outer loop</h3> "
   ]
  },
  {
   "cell_type": "code",
   "execution_count": 1,
   "metadata": {},
   "outputs": [
    {
     "name": "stdout",
     "output_type": "stream",
     "text": [
      "\n",
      "\n",
      "outerloop1st time: 1stelementofinnerloop\n",
      "outerloop1st time: 2ndelementofinnerloop\n",
      "outerloop1st time: 3rdelementofinnerloop\n",
      "outerloop1st time: 4thelementofinnerloop\n",
      "\n",
      "\n",
      "outerloops2ndtime: 1stelementofinnerloop\n",
      "outerloops2ndtime: 2ndelementofinnerloop\n",
      "outerloops2ndtime: 3rdelementofinnerloop\n",
      "outerloops2ndtime: 4thelementofinnerloop\n",
      "\n",
      "\n",
      "outerloop3rdtime: 1stelementofinnerloop\n",
      "outerloop3rdtime: 2ndelementofinnerloop\n",
      "outerloop3rdtime: 3rdelementofinnerloop\n",
      "outerloop3rdtime: 4thelementofinnerloop\n"
     ]
    }
   ],
   "source": [
    "#example\n",
    "outerloop = [\"outerloop1st time:\", \"outerloops2ndtime:\",\"outerloop3rdtime:\"]\n",
    "innerloop =[\"1stelementofinnerloop\", \"2ndelementofinnerloop\",\"3rdelementofinnerloop\",\"4thelementofinnerloop\"]\n",
    "\n",
    "for x in outerloop:  #outerloop\n",
    "    print (\"\\n\")\n",
    "    for y in innerloop: #innerloop\n",
    "        print(x,y)\n",
    "        "
   ]
  },
  {
   "cell_type": "code",
   "execution_count": null,
   "metadata": {},
   "outputs": [],
   "source": [
    "#empty for loop \n",
    "for i in [0,1,2]:  # only this will gives unexpected EOF while parsing, use \"pass\" to avoid error\n",
    "    pass\n",
    "    "
   ]
  },
  {
   "cell_type": "markdown",
   "metadata": {},
   "source": [
    "<h1> While Loops</h1>\n",
    "As you can see, the <code>for</code> loop is used for a controlled flow of repetition. However, what if we don't know when we want to stop the loop? What if we want to keep executing a code block until a certain condition is met? The <code>while</code> loop exists as a tool for repeated execution based on a condition. The code block will keep being executed until the given logical condition returns a **False** boolean value"
   ]
  },
  {
   "cell_type": "markdown",
   "metadata": {},
   "source": [
    "Let’s say we would like to iterate through list <code>dates</code> and stop at the year 1973, then print out the number of iterations. This can be done with the following block of code:"
   ]
  },
  {
   "cell_type": "markdown",
   "metadata": {},
   "source": [
    "<h1> With the while loop we can execute a set of statements as long as a condition is true.</h1>"
   ]
  },
  {
   "cell_type": "code",
   "execution_count": 14,
   "metadata": {},
   "outputs": [
    {
     "name": "stdout",
     "output_type": "stream",
     "text": [
      "1981\n",
      "1992\n",
      "1993\n",
      "1989\n"
     ]
    }
   ],
   "source": [
    "#as soon as encounter year 1973 stop execution\n",
    "dates=[1981,1992,1993,1989,1973]\n",
    "\n",
    "i = 0\n",
    "year = 0\n",
    "\n",
    "while(dates[i] != 1973):\n",
    "    \n",
    "   # year = dates[i]\n",
    "    print(dates[i])\n",
    "    i=i+1"
   ]
  },
  {
   "cell_type": "code",
   "execution_count": 3,
   "metadata": {},
   "outputs": [
    {
     "name": "stdout",
     "output_type": "stream",
     "text": [
      "1982\n",
      "1980\n",
      "1973\n"
     ]
    }
   ],
   "source": [
    "\n",
    "dates = [1982, 1980, 1973, 2000]\n",
    "\n",
    "i = 0\n",
    "year = 0\n",
    "\n",
    "while(year != 1973):\n",
    "    year = dates[i]\n",
    "    i = i + 1\n",
    "    print(year)"
   ]
  },
  {
   "cell_type": "code",
   "execution_count": 20,
   "metadata": {},
   "outputs": [
    {
     "name": "stdout",
     "output_type": "stream",
     "text": [
      "1981\n",
      "1992\n",
      "1993\n",
      "1989\n"
     ]
    }
   ],
   "source": [
    "dates=[1981,1992,1993,1989,1973]\n",
    "\n",
    "i = 0\n",
    "year = 0\n",
    "\n",
    "while(dates[i] != 1973):\n",
    "\n",
    "   # year = dates[i]\n",
    "    print(dates[i])\n",
    "    i=i+1"
   ]
  },
  {
   "cell_type": "code",
   "execution_count": null,
   "metadata": {},
   "outputs": [],
   "source": []
  },
  {
   "cell_type": "code",
   "execution_count": null,
   "metadata": {},
   "outputs": [],
   "source": []
  }
 ],
 "metadata": {
  "kernelspec": {
   "display_name": "Python",
   "language": "python",
   "name": "conda-env-python-py"
  },
  "language_info": {
   "codemirror_mode": {
    "name": "ipython",
    "version": 3
   },
   "file_extension": ".py",
   "mimetype": "text/x-python",
   "name": "python",
   "nbconvert_exporter": "python",
   "pygments_lexer": "ipython3",
   "version": "3.6.11"
  }
 },
 "nbformat": 4,
 "nbformat_minor": 4
}
