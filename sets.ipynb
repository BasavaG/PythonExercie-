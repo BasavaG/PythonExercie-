{
 "cells": [
  {
   "cell_type": "markdown",
   "metadata": {},
   "source": [
    "######################################\n",
    "1) Sets are collection of objects like lists, tuples and other data structures.\n",
    "2) Sets are created using curly brackets.\n",
    "3) Elements of set are unordered. \n",
    "4) Elements of sets are unique. duplicates are removed by python by default."
   ]
  },
  {
   "cell_type": "code",
   "execution_count": 2,
   "metadata": {},
   "outputs": [
    {
     "data": {
      "text/plain": [
       "{'apple', 'banana', 'grapes', 'orange'}"
      ]
     },
     "execution_count": 2,
     "metadata": {},
     "output_type": "execute_result"
    }
   ],
   "source": [
    "set1 = {\"banana\",\"orange\",\"apple\",\"grapes\"}\n",
    "set1"
   ]
  },
  {
   "cell_type": "code",
   "execution_count": 12,
   "metadata": {},
   "outputs": [
    {
     "name": "stdout",
     "output_type": "stream",
     "text": [
      "{'Mango', 'grapes', 'banana', 'orange', 'apple'}\n",
      "{'Mango', 'grapes', 'banana', 'orange', 'apple'}\n"
     ]
    }
   ],
   "source": [
    "#check adding same element and redundany/duplicate\n",
    "#set1.add(\"Mango\", \"banana\") # takes exactly one argument.\n",
    "#set1.add([\"Mango\", \"banana\"])#unhashable type list \n",
    "set1.add(\"Mango\")\n",
    "print(set1)\n",
    "set1.add(\"Mango\") # duplicate element\n",
    "print(set1)"
   ]
  },
  {
   "cell_type": "markdown",
   "metadata": {},
   "source": [
    "#Type_casting = converting one datastructure type to other datastructure or datatype to other datatypes\n",
    "#Convert List to set. \n",
    "#List are ordered and can hold duplicate elements.when lists are converted to set duplicates are removed.\n",
    "#Set method is used to convert list to set. "
   ]
  },
  {
   "cell_type": "code",
   "execution_count": 17,
   "metadata": {},
   "outputs": [
    {
     "data": {
      "text/plain": [
       "['cherries', 'lemon', 'banana', 'lemon']"
      ]
     },
     "execution_count": 17,
     "metadata": {},
     "output_type": "execute_result"
    }
   ],
   "source": [
    "#create a list \n",
    "list1= [\"cherries\", \"lemon\", \"banana\",\"lemon\"]\n",
    "list1"
   ]
  },
  {
   "cell_type": "code",
   "execution_count": 18,
   "metadata": {},
   "outputs": [
    {
     "data": {
      "text/plain": [
       "{'banana', 'cherries', 'lemon'}"
      ]
     },
     "execution_count": 18,
     "metadata": {},
     "output_type": "execute_result"
    }
   ],
   "source": [
    "#convert list to set\n",
    "set1=set(list1)\n",
    "set1 # observe no duplicates"
   ]
  },
  {
   "cell_type": "markdown",
   "metadata": {},
   "source": [
    "#########<b>Set Operations</b>###########\n",
    "<li>\n",
    "1) Add and remove elements \n",
    "2) Intersection of two sets \n",
    "3) Union of two sets\n",
    "4) check the presence of element in set using \"in\" keyword</li>"
   ]
  },
  {
   "cell_type": "code",
   "execution_count": 25,
   "metadata": {},
   "outputs": [
    {
     "data": {
      "text/plain": [
       "['abc', 'xyz', 1, 2, 'xyz']"
      ]
     },
     "execution_count": 25,
     "metadata": {},
     "output_type": "execute_result"
    }
   ],
   "source": [
    "#Create new set from list\n",
    "list2=[\"abc\",\"xyz\",1,2,\"xyz\"]\n",
    "list2"
   ]
  },
  {
   "cell_type": "code",
   "execution_count": 27,
   "metadata": {},
   "outputs": [
    {
     "data": {
      "text/plain": [
       "{1, 2, 'abc', 'xyz'}"
      ]
     },
     "execution_count": 27,
     "metadata": {},
     "output_type": "execute_result"
    }
   ],
   "source": [
    "setA=set(list2)\n",
    "setA"
   ]
  },
  {
   "cell_type": "code",
   "execution_count": 30,
   "metadata": {},
   "outputs": [
    {
     "data": {
      "text/plain": [
       "{1, 26, 'aei', 'ou'}"
      ]
     },
     "execution_count": 30,
     "metadata": {},
     "output_type": "execute_result"
    }
   ],
   "source": [
    "setB={1,\"aei\",\"ou\",26}\n",
    "setB"
   ]
  },
  {
   "cell_type": "code",
   "execution_count": 31,
   "metadata": {},
   "outputs": [
    {
     "data": {
      "text/plain": [
       "{1}"
      ]
     },
     "execution_count": 31,
     "metadata": {},
     "output_type": "execute_result"
    }
   ],
   "source": [
    "#Intersection: Select only common elements from sets, using  \"&\"(apersond operator we achieve intersection)\n",
    "res1=setA & setB\n",
    "res1 # element 1 is common"
   ]
  },
  {
   "cell_type": "code",
   "execution_count": 32,
   "metadata": {},
   "outputs": [
    {
     "data": {
      "text/plain": [
       "{1, 2, 26, 'abc', 'aei', 'ou', 'xyz'}"
      ]
     },
     "execution_count": 32,
     "metadata": {},
     "output_type": "execute_result"
    }
   ],
   "source": [
    "#Union : Combines two sets, use \"union\" keyword \n",
    "res2=setA.union(setB)\n",
    "res2"
   ]
  },
  {
   "cell_type": "code",
   "execution_count": 33,
   "metadata": {},
   "outputs": [
    {
     "data": {
      "text/plain": [
       "False"
      ]
     },
     "execution_count": 33,
     "metadata": {},
     "output_type": "execute_result"
    }
   ],
   "source": [
    "#check is it setB is subset of setA, we use \"issubset\" method\n",
    "setB.issubset(setA) # its not, reruns false"
   ]
  },
  {
   "cell_type": "code",
   "execution_count": 37,
   "metadata": {},
   "outputs": [
    {
     "data": {
      "text/plain": [
       "True"
      ]
     },
     "execution_count": 37,
     "metadata": {},
     "output_type": "execute_result"
    }
   ],
   "source": [
    "#check the element is present in set using \"in\" keyword. \n",
    "\"aei\" in res2"
   ]
  },
  {
   "cell_type": "code",
   "execution_count": 40,
   "metadata": {},
   "outputs": [
    {
     "data": {
      "text/plain": [
       "{2, 'abc', 'xyz'}"
      ]
     },
     "execution_count": 40,
     "metadata": {},
     "output_type": "execute_result"
    }
   ],
   "source": [
    "#check the differance between two sets\n",
    "setA.difference(setB)"
   ]
  },
  {
   "cell_type": "code",
   "execution_count": 41,
   "metadata": {},
   "outputs": [
    {
     "data": {
      "text/plain": [
       "False"
      ]
     },
     "execution_count": 41,
     "metadata": {},
     "output_type": "execute_result"
    }
   ],
   "source": [
    "#issuperset\n",
    "setA.issuperset(setB)"
   ]
  },
  {
   "cell_type": "code",
   "execution_count": 46,
   "metadata": {},
   "outputs": [
    {
     "data": {
      "text/plain": [
       "(set(), {1, 2, 26, 'aei', 'ou', 'xyz'})"
      ]
     },
     "execution_count": 46,
     "metadata": {},
     "output_type": "execute_result"
    }
   ],
   "source": [
    "#remove elements\\\n",
    "res1, res2\n",
    "res2.remove(\"abc\")\n",
    "res1,res2"
   ]
  },
  {
   "cell_type": "code",
   "execution_count": 48,
   "metadata": {},
   "outputs": [
    {
     "data": {
      "text/plain": [
       "({1, 2, 3, 4}, {2, 3, 4, 5})"
      ]
     },
     "execution_count": 48,
     "metadata": {},
     "output_type": "execute_result"
    }
   ],
   "source": [
    "setx={1,2,3,4}\n",
    "sety={2,3,4,5}\n",
    "setx,sety"
   ]
  },
  {
   "cell_type": "code",
   "execution_count": 49,
   "metadata": {},
   "outputs": [
    {
     "data": {
      "text/plain": [
       "10"
      ]
     },
     "execution_count": 49,
     "metadata": {},
     "output_type": "execute_result"
    }
   ],
   "source": [
    "sum(setx)"
   ]
  },
  {
   "cell_type": "code",
   "execution_count": 50,
   "metadata": {},
   "outputs": [
    {
     "data": {
      "text/plain": [
       "False"
      ]
     },
     "execution_count": 50,
     "metadata": {},
     "output_type": "execute_result"
    }
   ],
   "source": [
    "#check the sum of two sets are equal or not\n",
    "sum(setx) == sum(sety)"
   ]
  },
  {
   "cell_type": "code",
   "execution_count": null,
   "metadata": {},
   "outputs": [],
   "source": []
  }
 ],
 "metadata": {
  "kernelspec": {
   "display_name": "Python",
   "language": "python",
   "name": "conda-env-python-py"
  },
  "language_info": {
   "codemirror_mode": {
    "name": "ipython",
    "version": 3
   },
   "file_extension": ".py",
   "mimetype": "text/x-python",
   "name": "python",
   "nbconvert_exporter": "python",
   "pygments_lexer": "ipython3",
   "version": "3.6.11"
  }
 },
 "nbformat": 4,
 "nbformat_minor": 4
}
